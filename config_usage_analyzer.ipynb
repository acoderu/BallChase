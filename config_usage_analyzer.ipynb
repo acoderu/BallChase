{
 "cells": [
  {
   "cell_type": "markdown",
   "id": "38bc177d",
   "metadata": {},
   "source": [
    "# Configuration Usage Analyzer\n",
    "\n",
    "This notebook helps you identify which files in a project use a specific configuration setting. It searches through your codebase to find references to particular configuration settings and visualizes the relationships between files and configurations."
   ]
  },
  {
   "cell_type": "markdown",
   "id": "edd5bc09",
   "metadata": {},
   "source": [
    "## Import Required Libraries\n",
    "\n",
    "Import libraries for file system operations, text processing, and data visualization."
   ]
  },
  {
   "cell_type": "code",
   "execution_count": null,
   "id": "b9ac8636",
   "metadata": {},
   "outputs": [],
   "source": [
    "import os\n",
    "import re\n",
    "import argparse\n",
    "from pathlib import Path\n",
    "import pandas as pd\n",
    "import networkx as nx\n",
    "import matplotlib.pyplot as plt\n",
    "import seaborn as sns\n",
    "from collections import defaultdict\n",
    "import plotly.express as px\n",
    "import plotly.graph_objects as go"
   ]
  },
  {
   "cell_type": "markdown",
   "id": "e97dafda",
   "metadata": {},
   "source": [
    "## Parse Command Line Arguments\n",
    "\n",
    "Create functions to parse command line arguments to specify the configuration to search for and the directory to search in."
   ]
  },
  {
   "cell_type": "code",
   "execution_count": null,
   "id": "51de62f5",
   "metadata": {},
   "outputs": [],
   "source": [
    "def parse_arguments():\n",
    "    \"\"\"\n",
    "    Parse command line arguments when running as a script.\n",
    "    Returns arguments that can be used within the notebook.\n",
    "    \"\"\"\n",
    "    # If running in a notebook, we'll use these default values\n",
    "    class Args:\n",
    "        def __init__(self):\n",
    "            self.config_pattern = None\n",
    "            self.directory = None\n",
    "            self.extensions = ['.py', '.js', '.ts', '.json', '.yaml', '.yml', '.toml', '.ini', '.conf']\n",
    "            self.exclude_dirs = ['node_modules', 'venv', '.git', '__pycache__', 'build', 'dist']\n",
    "            \n",
    "    # Try to parse command line arguments if run as a script\n",
    "    try:\n",
    "        parser = argparse.ArgumentParser(description='Find files using specific configuration settings')\n",
    "        parser.add_argument('--config', '-c', dest='config_pattern', required=True,\n",
    "                            help='Configuration pattern to search for (e.g., \"DEBUG_MODE\")')\n",
    "        parser.add_argument('--dir', '-d', dest='directory', default='.',\n",
    "                            help='Directory to search in (default: current directory)')\n",
    "        parser.add_argument('--ext', '-e', dest='extensions', nargs='+',\n",
    "                            default=['.py', '.js', '.ts', '.json', '.yaml', '.yml', '.toml', '.ini', '.conf'],\n",
    "                            help='File extensions to search (default: common code and config files)')\n",
    "        parser.add_argument('--exclude', '-x', dest='exclude_dirs', nargs='+',\n",
    "                            default=['node_modules', 'venv', '.git', '__pycache__', 'build', 'dist'],\n",
    "                            help='Directories to exclude from search')\n",
    "        \n",
    "        args = parser.parse_args()\n",
    "        return args\n",
    "    except:\n",
    "        # If running in notebook, return default args object\n",
    "        print(\"Running in notebook mode. Use set_search_params() to configure search parameters.\")\n",
    "        return Args()\n",
    "\n",
    "# Function to set parameters when running in notebook\n",
    "def set_search_params(config_pattern, directory='.', \n",
    "                     extensions=['.py', '.js', '.ts', '.json', '.yaml', '.yml', '.toml', '.ini', '.conf'],\n",
    "                     exclude_dirs=['node_modules', 'venv', '.git', '__pycache__', 'build', 'dist']):\n",
    "    \"\"\"Set the search parameters for the configuration search.\"\"\"\n",
    "    args = parse_arguments()\n",
    "    args.config_pattern = config_pattern\n",
    "    args.directory = directory\n",
    "    args.extensions = extensions\n",
    "    args.exclude_dirs = exclude_dirs\n",
    "    return args\n",
    "\n",
    "# Get default arguments\n",
    "args = parse_arguments()"
   ]
  },
  {
   "cell_type": "markdown",
   "id": "a530f70a",
   "metadata": {},
   "source": [
    "## Search for Configuration Usage\n",
    "\n",
    "Implement functions to recursively search through files for specific configuration patterns or references."
   ]
  }
 ],
 "metadata": {
  "language_info": {
   "name": "python"
  }
 },
 "nbformat": 4,
 "nbformat_minor": 5
}
